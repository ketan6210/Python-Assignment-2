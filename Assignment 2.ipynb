{
 "cells": [
  {
   "cell_type": "code",
   "execution_count": 9,
   "id": "ee0b8e51-6ec4-48f4-969d-b4298deee1c0",
   "metadata": {},
   "outputs": [
    {
     "data": {
      "text/plain": [
       "'Hello'"
      ]
     },
     "execution_count": 9,
     "metadata": {},
     "output_type": "execute_result"
    }
   ],
   "source": [
    "#Q1.Discuss string slicing and provide examples.\n",
    "\n",
    "#string slicing refers to access the specific part of the string.\n",
    "#for example\n",
    "# str[start:stop:step] here index starts from start end with stop-1 index and step are numbers to be skipped. \n",
    "#intially step begings with 1 unless and untill it is changed\n",
    "\n",
    "str=\"Hello World\"\n",
    "str[0:5] # here i want to get output only still hello, so we have sliced it index no.5 which is not included\n"
   ]
  },
  {
   "cell_type": "code",
   "execution_count": 11,
   "id": "6b46891c-f8e4-4d8f-b74b-422f5e7e9e15",
   "metadata": {},
   "outputs": [
    {
     "data": {
      "text/plain": [
       "'World'"
      ]
     },
     "execution_count": 11,
     "metadata": {},
     "output_type": "execute_result"
    }
   ],
   "source": [
    "str[6:]  #here we have started from index no 6 which goes till end of the string."
   ]
  },
  {
   "cell_type": "code",
   "execution_count": 13,
   "id": "67fb9c53-9211-49b0-bf4a-afa1174565bf",
   "metadata": {},
   "outputs": [
    {
     "data": {
      "text/plain": [
       "'dlroW olleH'"
      ]
     },
     "execution_count": 13,
     "metadata": {},
     "output_type": "execute_result"
    }
   ],
   "source": [
    "str[::-1] #reversing the string"
   ]
  },
  {
   "cell_type": "code",
   "execution_count": 15,
   "id": "06b372bb-5591-4733-8a83-184bd3e5e8d1",
   "metadata": {},
   "outputs": [
    {
     "name": "stdout",
     "output_type": "stream",
     "text": [
      "[1, 2, 3, 4, 5]\n"
     ]
    }
   ],
   "source": [
    "\n",
    "#Q2. Explain the key feature of list in python.\n",
    "# the key feature of list are it is ordered, mutable, supports hetrogeneous element and slicing also.\n",
    "\n",
    "#elements are always in order in list.\n",
    "\n",
    "list=[1,2,3,4,5]\n",
    "print(list)\n",
    "\n"
   ]
  },
  {
   "cell_type": "code",
   "execution_count": 17,
   "id": "cf88975b-66e5-435c-abe1-116afe734c5f",
   "metadata": {},
   "outputs": [
    {
     "name": "stdout",
     "output_type": "stream",
     "text": [
      "[1, 2, 23, 4, 5]\n"
     ]
    }
   ],
   "source": [
    "#mutuable means the vale of list can be altered or changed.\n",
    "list=[1,2,3,4,5]\n",
    "list[2]=23\n",
    "print(list)"
   ]
  },
  {
   "cell_type": "code",
   "execution_count": 19,
   "id": "3f6fb893-106c-4e37-b82b-78412e59da09",
   "metadata": {},
   "outputs": [
    {
     "data": {
      "text/plain": [
       "list"
      ]
     },
     "execution_count": 19,
     "metadata": {},
     "output_type": "execute_result"
    }
   ],
   "source": [
    "#hetrogenous in nature means supports all type of data structures such as float, inetegers and string\n",
    "\n",
    "list=[1,2,\"hi\",6.6]\n",
    "type(list)"
   ]
  },
  {
   "cell_type": "code",
   "execution_count": 21,
   "id": "8118ac5c-d073-47c8-a1e1-cb5a2c16d697",
   "metadata": {},
   "outputs": [
    {
     "data": {
      "text/plain": [
       "[1, 2, 'hi']"
      ]
     },
     "execution_count": 21,
     "metadata": {},
     "output_type": "execute_result"
    }
   ],
   "source": [
    "#slicing \n",
    "list[0:3]"
   ]
  },
  {
   "cell_type": "code",
   "execution_count": 23,
   "id": "288c2b1e-11a4-4e80-aed7-7f734527f5e5",
   "metadata": {},
   "outputs": [
    {
     "data": {
      "text/plain": [
       "[6.6, 'hi', 2, 1]"
      ]
     },
     "execution_count": 23,
     "metadata": {},
     "output_type": "execute_result"
    }
   ],
   "source": [
    "list[::-1] #reversing the list"
   ]
  },
  {
   "cell_type": "code",
   "execution_count": 29,
   "id": "d66761e5-85f8-4882-bd78-d1cec81918ba",
   "metadata": {},
   "outputs": [
    {
     "name": "stdout",
     "output_type": "stream",
     "text": [
      "[0, 1, 4, 9, 16]\n"
     ]
    }
   ],
   "source": [
    "squares= [i**2 for i in range(5)] #comprehension list\n",
    "print(squares)"
   ]
  },
  {
   "cell_type": "code",
   "execution_count": 2,
   "id": "ba3e7591-84c4-4395-876c-e58217f87e84",
   "metadata": {},
   "outputs": [
    {
     "data": {
      "text/plain": [
       "[10, 20, 30, 40]"
      ]
     },
     "execution_count": 2,
     "metadata": {},
     "output_type": "execute_result"
    }
   ],
   "source": [
    "#Q3. decribe how to delete,access and modify elemets in list with an example.\n",
    "\n",
    "#deleting elemts from a list\n",
    "list=[10,20,30,40,50]\n",
    "list.pop() #removng random element\n",
    "list"
   ]
  },
  {
   "cell_type": "code",
   "execution_count": 6,
   "id": "1a94003d-d87f-4286-9896-0d63521a6800",
   "metadata": {},
   "outputs": [
    {
     "data": {
      "text/plain": [
       "[10, 20, 40]"
      ]
     },
     "execution_count": 6,
     "metadata": {},
     "output_type": "execute_result"
    }
   ],
   "source": [
    "list.pop(2) #deleting the second index item from it\n",
    "list"
   ]
  },
  {
   "cell_type": "code",
   "execution_count": 8,
   "id": "d0cbb096-08b2-4c08-a838-12c0f64d81e1",
   "metadata": {},
   "outputs": [
    {
     "data": {
      "text/plain": [
       "'banana'"
      ]
     },
     "execution_count": 8,
     "metadata": {},
     "output_type": "execute_result"
    }
   ],
   "source": [
    "#accessing the elements\n",
    "list=[1,2,3,\"mango\",\"banana\"]\n",
    "list[4] #accessing the index no 4 element in the list"
   ]
  },
  {
   "cell_type": "code",
   "execution_count": 16,
   "id": "b3572628-637a-4d9b-a901-18c5cfca942a",
   "metadata": {},
   "outputs": [
    {
     "data": {
      "text/plain": [
       "[1, 2, 3]"
      ]
     },
     "execution_count": 16,
     "metadata": {},
     "output_type": "execute_result"
    }
   ],
   "source": [
    "list[0:3] #accessing only numbers from list"
   ]
  },
  {
   "cell_type": "code",
   "execution_count": 28,
   "id": "f23f9665-08f8-43e1-aa03-fb05cb6d30d0",
   "metadata": {},
   "outputs": [
    {
     "data": {
      "text/plain": [
       "[1, 2, 34, 'apple']"
      ]
     },
     "execution_count": 28,
     "metadata": {},
     "output_type": "execute_result"
    }
   ],
   "source": [
    "#modifying the list\n",
    "list=[1,2,34,\"mango\"]  #modfying mango to apple\n",
    "list[3]=\"apple\"\n",
    "list"
   ]
  },
  {
   "cell_type": "code",
   "execution_count": 36,
   "id": "f2c1addb-bf44-47fe-9917-fdd808854ecc",
   "metadata": {},
   "outputs": [
    {
     "data": {
      "text/plain": [
       "[1, 2, 22, 44, 5]"
      ]
     },
     "execution_count": 36,
     "metadata": {},
     "output_type": "execute_result"
    }
   ],
   "source": [
    "list=[1,2,3,4,5]\n",
    "list[2:4]=[22,44]  # modfying through slicing from 2,3 index\n",
    "list"
   ]
  },
  {
   "cell_type": "code",
   "execution_count": 50,
   "id": "25330dee-16ed-4b84-bc64-b96344f52baf",
   "metadata": {},
   "outputs": [
    {
     "data": {
      "text/plain": [
       "[1, 22, 45]"
      ]
     },
     "execution_count": 50,
     "metadata": {},
     "output_type": "execute_result"
    }
   ],
   "source": [
    "#Q4. Compare and constast list and tuple with example.\n",
    "\n",
    "#list are immuatble, their value can be changed. like delete , access or modify. it is denoted by []\n",
    "\n",
    "list=[1,2,3,45]\n",
    "list.pop(2)\n",
    "list[1]=22\n",
    "list[:]"
   ]
  },
  {
   "cell_type": "code",
   "execution_count": 40,
   "id": "107c0537-1071-4a85-a57b-096a82586a15",
   "metadata": {},
   "outputs": [
    {
     "ename": "TypeError",
     "evalue": "'tuple' object does not support item assignment",
     "output_type": "error",
     "traceback": [
      "\u001b[1;31m---------------------------------------------------------------------------\u001b[0m",
      "\u001b[1;31mTypeError\u001b[0m                                 Traceback (most recent call last)",
      "Cell \u001b[1;32mIn[40], line 3\u001b[0m\n\u001b[0;32m      1\u001b[0m \u001b[38;5;66;03m#tuple are muatable. it value cannot be changed. It is denoted by ()\u001b[39;00m\n\u001b[0;32m      2\u001b[0m \u001b[38;5;28mtuple\u001b[39m\u001b[38;5;241m=\u001b[39m(\u001b[38;5;241m1\u001b[39m,\u001b[38;5;241m2\u001b[39m,\u001b[38;5;241m3\u001b[39m,\u001b[38;5;241m4\u001b[39m,\u001b[38;5;241m5\u001b[39m)\n\u001b[1;32m----> 3\u001b[0m \u001b[38;5;28mtuple\u001b[39m[\u001b[38;5;241m2\u001b[39m]\u001b[38;5;241m=\u001b[39m\u001b[38;5;241m77\u001b[39m\n",
      "\u001b[1;31mTypeError\u001b[0m: 'tuple' object does not support item assignment"
     ]
    }
   ],
   "source": [
    "#tuple are muatable. it value cannot be changed. It is denoted by ()\n",
    "tuple=(1,2,3,4,5)\n",
    "tuple[2]=77"
   ]
  },
  {
   "cell_type": "code",
   "execution_count": 52,
   "id": "1a68596f-d75f-4670-a14c-2d224443f4f5",
   "metadata": {},
   "outputs": [],
   "source": [
    "#tuple are used where the data store are permanent. where as list are having hetrogenous data can it's value can be change any time\n",
    "\n"
   ]
  },
  {
   "cell_type": "code",
   "execution_count": 57,
   "id": "ffeb1022-6c64-4415-af23-a646252eb67a",
   "metadata": {},
   "outputs": [],
   "source": [
    "#Q5describe the key feature of sets and its usage with example.\n",
    "\n",
    "#A set in Python is an unordered, mutable, and unindexed collection of unique elements.\n",
    "#It is useful when you need to store distinct items and perform operations like union, intersection, or difference between collections. "
   ]
  },
  {
   "cell_type": "code",
   "execution_count": 59,
   "id": "cd21f219-8d00-4b84-a2ef-769510254c4d",
   "metadata": {},
   "outputs": [
    {
     "data": {
      "text/plain": [
       "{1, 2, 3, 4, 5, 6, 7, 45, 54, 87, 455}"
      ]
     },
     "execution_count": 59,
     "metadata": {},
     "output_type": "execute_result"
    }
   ],
   "source": [
    "#unique value and its use case is to check no of unique elements in list\n",
    "set={1,1,1,2,3,4,54,6,7,7,87,6,6,5,455,5,4,4,4,45,6}\n",
    "set"
   ]
  },
  {
   "cell_type": "code",
   "execution_count": 65,
   "id": "d3129f3f-f1c1-4aa1-aec9-37dd0de109a8",
   "metadata": {},
   "outputs": [
    {
     "data": {
      "text/plain": [
       "{1, 2, 3, 4, 5}"
      ]
     },
     "execution_count": 65,
     "metadata": {},
     "output_type": "execute_result"
    }
   ],
   "source": [
    "#sets performs some operations such as union, intersection, and difference\n",
    "\n",
    "s1={1,2,3}\n",
    "s2={3,4,5}\n",
    "s3= s1 | s2\n",
    "s3"
   ]
  },
  {
   "cell_type": "code",
   "execution_count": 67,
   "id": "1f0cf825-6d40-4ca4-8d11-057a91f3c87c",
   "metadata": {},
   "outputs": [
    {
     "data": {
      "text/plain": [
       "{3}"
      ]
     },
     "execution_count": 67,
     "metadata": {},
     "output_type": "execute_result"
    }
   ],
   "source": [
    "#intersection  returns common element from both sets\n",
    "s4=s1 & s2\n",
    "s4"
   ]
  },
  {
   "cell_type": "code",
   "execution_count": 69,
   "id": "be00982e-866e-4371-93b2-0d4f9e061088",
   "metadata": {},
   "outputs": [
    {
     "data": {
      "text/plain": [
       "{1, 2}"
      ]
     },
     "execution_count": 69,
     "metadata": {},
     "output_type": "execute_result"
    }
   ],
   "source": [
    "#difference    returns the element that are in only set 1 not in set 2\n",
    "s5= s1 - s2\n",
    "s5\n"
   ]
  },
  {
   "cell_type": "code",
   "execution_count": 71,
   "id": "2bc8db5e-a67f-4847-905d-dd9dc0f31256",
   "metadata": {},
   "outputs": [
    {
     "data": {
      "text/plain": [
       "{'name': 'XYZ', 'age': 22}"
      ]
     },
     "execution_count": 71,
     "metadata": {},
     "output_type": "execute_result"
    }
   ],
   "source": [
    "#Q6. Discuss the usecase of tuple and sets in python\n",
    "\n",
    "\"\"\" Tuples and sets both are used in python.\n",
    "tuple are immuatble they used to store value that cannot be alter.\n",
    "they can be used in dictonary to fix values.\n",
    "they ensure data integritry\"\"\"\n",
    "\n",
    "dict={(\"name\"):(\"XYZ\"),(\"age\"):(22)}  #here the value of dict cannot be changed as it is in tuple.\n",
    "dict"
   ]
  },
  {
   "cell_type": "code",
   "execution_count": null,
   "id": "2a9fb6cb-e6ff-483c-8a21-af805fe6784d",
   "metadata": {},
   "outputs": [],
   "source": []
  },
  {
   "cell_type": "code",
   "execution_count": 97,
   "id": "e415ff4e-6d42-4371-9a24-32c8d8c76fa9",
   "metadata": {},
   "outputs": [
    {
     "name": "stdout",
     "output_type": "stream",
     "text": [
      "{1, 2, 3, 4, 5, 6}\n"
     ]
    }
   ],
   "source": [
    "\"\"\" sets are used in many ways.\n",
    "to provide the unique value.\n",
    "to identify the element is in the listl.\n",
    "to perform opreations.\"\"\"\n",
    "set={1,2,3,4,4,5,6,5,4,3,2,1,2,3}\n",
    "print(set)\n",
    "\n"
   ]
  },
  {
   "cell_type": "code",
   "execution_count": 99,
   "id": "1b10c3a2-9f45-4582-a300-4ba9fc69ca0c",
   "metadata": {},
   "outputs": [
    {
     "name": "stdout",
     "output_type": "stream",
     "text": [
      "yes 3 in set\n"
     ]
    }
   ],
   "source": [
    "if 3 in set:\n",
    "    print(\"yes 3 in set\")"
   ]
  },
  {
   "cell_type": "code",
   "execution_count": 103,
   "id": "e0317fcc-c270-4604-8a50-7a3149e5060b",
   "metadata": {},
   "outputs": [
    {
     "data": {
      "text/plain": [
       "{'name': 'XYZ', 'age': 22, 'gender': 'male'}"
      ]
     },
     "execution_count": 103,
     "metadata": {},
     "output_type": "execute_result"
    }
   ],
   "source": [
    "#Q7. Dicuss how to add, modify and delete item in dictonary with example.\n",
    "\n",
    "#adding items to dict\n",
    "\n",
    "dict = {}\n",
    "dict[\"name\"]=\"XYZ\"\n",
    "dict[\"age\"]=22\n",
    "dict[\"gender\"]=\"male\"\n",
    "dict"
   ]
  },
  {
   "cell_type": "code",
   "execution_count": 105,
   "id": "ddc1646c-0ce2-4887-9363-fa5804fa4715",
   "metadata": {},
   "outputs": [
    {
     "data": {
      "text/plain": [
       "{'name': 'mohan', 'age': 22, 'gender': 'male'}"
      ]
     },
     "execution_count": 105,
     "metadata": {},
     "output_type": "execute_result"
    }
   ],
   "source": [
    "#modifying items in dict\n",
    "\n",
    "dict[\"name\"]=\"mohan\"\n",
    "dict"
   ]
  },
  {
   "cell_type": "code",
   "execution_count": 107,
   "id": "fda01882-7df7-4eb6-b095-5b33dd853850",
   "metadata": {},
   "outputs": [
    {
     "data": {
      "text/plain": [
       "{'age': 22, 'gender': 'male'}"
      ]
     },
     "execution_count": 107,
     "metadata": {},
     "output_type": "execute_result"
    }
   ],
   "source": [
    "#deleting items in dict\n",
    "\n",
    "del dict[\"name\"]\n",
    "dict"
   ]
  },
  {
   "cell_type": "code",
   "execution_count": 124,
   "id": "250a898d-d2e7-4de3-8cd1-17dd4d73af6c",
   "metadata": {},
   "outputs": [
    {
     "name": "stdout",
     "output_type": "stream",
     "text": [
      "The answer to life, the universe, and everything\n",
      "Alice\n",
      "A tuple as a key\n"
     ]
    }
   ],
   "source": [
    "#Q8. dicuss the importance of dictornary keys being immutable with example.\n",
    "\n",
    "\"\"\"Importance of Immutable Dictionary Keys\n",
    "consistent-Dictionary keys must be immutable to ensure that the hash value associated with the key remains constant. \n",
    "Data Integrity\n",
    "Allowing mutable objects as keys could lead to unpredictable behavior and errors.\"\"\"\n",
    "\n",
    "my_dict = {\n",
    "    42: \"The answer to life, the universe, and everything\", \n",
    "    \"name\": \"Alice\", \n",
    "    (1, 2): \"A tuple as a key\"  \n",
    "}\n",
    "\n",
    "\n",
    "print(my_dict[42])         # Output: The answer to life, the universe, and everything\n",
    "print(my_dict[\"name\"])     # Output: Alice\n",
    "print(my_dict[(1, 2)])     # Output: A tuple as a key"
   ]
  },
  {
   "cell_type": "code",
   "execution_count": null,
   "id": "6962a3aa-4a39-4988-bdf2-511afda5e541",
   "metadata": {},
   "outputs": [],
   "source": []
  },
  {
   "cell_type": "code",
   "execution_count": null,
   "id": "d36524d4-4b04-455b-b923-10c518817e7b",
   "metadata": {},
   "outputs": [],
   "source": []
  }
 ],
 "metadata": {
  "kernelspec": {
   "display_name": "Python 3 (ipykernel)",
   "language": "python",
   "name": "python3"
  },
  "language_info": {
   "codemirror_mode": {
    "name": "ipython",
    "version": 3
   },
   "file_extension": ".py",
   "mimetype": "text/x-python",
   "name": "python",
   "nbconvert_exporter": "python",
   "pygments_lexer": "ipython3",
   "version": "3.12.4"
  }
 },
 "nbformat": 4,
 "nbformat_minor": 5
}
